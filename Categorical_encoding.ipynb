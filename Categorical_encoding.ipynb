{
 "cells": [
  {
   "cell_type": "code",
   "execution_count": null,
   "id": "e39fcc38",
   "metadata": {},
   "outputs": [],
   "source": [
    "ordinal data: Ordinalencoder / .replace func\n",
    "nominal data: Onehotencoder / pd.get_dummies\n",
    "target column: Labelencoder"
   ]
  },
  {
   "cell_type": "code",
   "execution_count": null,
   "id": "046c8270",
   "metadata": {},
   "outputs": [],
   "source": [
    "dummy variable trap?\n",
    "- When we have encoded a cat column using onehotencoder then\n",
    "class1 class2 class3 \n",
    " 0       1      0 \n",
    "    - the columns formed after one hot encoding are dummy variable \n",
    "if we look closely then there is multicolinearity between then so thats why we remove one column \n",
    "- not good for linear models\n",
    "ifa column has n categories then we will only keep n-1 categories only\n",
    "\n",
    "\n",
    "if you have too many categories in column then create a category for cat having infrequent not so much value caounts \n"
   ]
  },
  {
   "cell_type": "code",
   "execution_count": null,
   "id": "c36dc3f5",
   "metadata": {},
   "outputs": [],
   "source": []
  },
  {
   "cell_type": "code",
   "execution_count": null,
   "id": "cde6ea48",
   "metadata": {},
   "outputs": [],
   "source": []
  },
  {
   "cell_type": "code",
   "execution_count": null,
   "id": "ea46dd12",
   "metadata": {},
   "outputs": [],
   "source": []
  },
  {
   "cell_type": "code",
   "execution_count": null,
   "id": "f13fadf5",
   "metadata": {},
   "outputs": [],
   "source": []
  }
 ],
 "metadata": {
  "kernelspec": {
   "display_name": "Python 3 (ipykernel)",
   "language": "python",
   "name": "python3"
  },
  "language_info": {
   "codemirror_mode": {
    "name": "ipython",
    "version": 3
   },
   "file_extension": ".py",
   "mimetype": "text/x-python",
   "name": "python",
   "nbconvert_exporter": "python",
   "pygments_lexer": "ipython3",
   "version": "3.9.12"
  }
 },
 "nbformat": 4,
 "nbformat_minor": 5
}
